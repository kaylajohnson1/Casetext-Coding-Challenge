{
  "nbformat": 4,
  "nbformat_minor": 0,
  "metadata": {
    "colab": {
      "name": "Casetext-Solutions-Engineer.ipynb",
      "provenance": [],
      "collapsed_sections": []
    },
    "kernelspec": {
      "name": "python3",
      "display_name": "Python 3"
    },
    "language_info": {
      "name": "python"
    }
  },
  "cells": [
    {
      "cell_type": "markdown",
      "source": [
        "# Casetext Solutions Engineer Coding Challenge"
      ],
      "metadata": {
        "id": "7lBuz7h62vhm"
      }
    },
    {
      "cell_type": "markdown",
      "source": [
        "\n",
        "\n",
        "## Steps \n",
        "1. Load Packages\n",
        "2. Downloaad Data\n",
        "3. Create WeSearch Collection\n",
        "4. Upload Random Sample to Collection"
      ],
      "metadata": {
        "id": "0QOGXJXW3AH0"
      }
    },
    {
      "cell_type": "markdown",
      "source": [
        "## 1. Load Packages"
      ],
      "metadata": {
        "id": "LjN7W9AZ1pkk"
      }
    },
    {
      "cell_type": "code",
      "source": [
        "# load packages\n",
        "import requests # to create collection and upload to collection\n",
        "import zipfile # to retrieve files from zip folder\n",
        "import random # for randomly selecting files\n",
        "import config # config.py contains authorozation token"
      ],
      "metadata": {
        "id": "sWjR2Zyx1yF0"
      },
      "execution_count": 1,
      "outputs": []
    },
    {
      "cell_type": "code",
      "source": [
        "# mount to Google Drive\n",
        "\n",
        "from google.colab import drive\n",
        "drive.mount('/content/gdrive', force_remount= True)\n",
        "# %cd gdrive/MyDrive/Colab\\ Notebooks/"
      ],
      "metadata": {
        "colab": {
          "base_uri": "https://localhost:8080/"
        },
        "id": "aq6bs-ppBT3a",
        "outputId": "9fbafa3e-8745-420d-f009-9fe53a1ba7b8"
      },
      "execution_count": 6,
      "outputs": [
        {
          "output_type": "stream",
          "name": "stdout",
          "text": [
            "Mounted at /content/gdrive\n"
          ]
        }
      ]
    },
    {
      "cell_type": "code",
      "source": [
        "%cd gdrive/MyDrive/Colab\\ Notebooks/"
      ],
      "metadata": {
        "colab": {
          "base_uri": "https://localhost:8080/"
        },
        "id": "4b2k84XfBYZ4",
        "outputId": "40db86d0-1749-4ac1-e04e-2718acd18eb6"
      },
      "execution_count": 8,
      "outputs": [
        {
          "output_type": "stream",
          "name": "stdout",
          "text": [
            "/content/gdrive/MyDrive/Colab Notebooks\n"
          ]
        }
      ]
    },
    {
      "cell_type": "code",
      "source": [
        "# Initiate key variables\n",
        "auth_token = config.auth_token\n",
        "collection = 'https://project-apollo-api.stg.gc.casetext.com/v0/kayla-collects'\n",
        "zip_file = '446c8aa0-6eba-11e5-bc7f-4851b79b387c.zip'"
      ],
      "metadata": {
        "id": "YaouefLV1gST"
      },
      "execution_count": 92,
      "outputs": []
    },
    {
      "cell_type": "markdown",
      "source": [
        "## 2. Download Data \n",
        "\n",
        "One thing that is important to note is that the files are in a zipped folder. I will be using the **zipfile** package to retrieve the files."
      ],
      "metadata": {
        "id": "3T4adk1JQJop"
      }
    },
    {
      "cell_type": "markdown",
      "source": [
        "### Retrieve file names"
      ],
      "metadata": {
        "id": "f-tjWVgJaVCT"
      }
    },
    {
      "cell_type": "code",
      "source": [
        "# Create function to retrieve all file names within zip file\n",
        "\n",
        "file_name_list = [] # list to append file names to\n",
        "\n",
        "def get_file_names():\n",
        "  with zipfile.ZipFile(zip_file, 'r') as zip: \n",
        "   # Get list of files names in zip\n",
        "   for name in zip.namelist(): # namelist(): zipfile function that creates list of all files in folder\n",
        "     file_name_list.append(name) # append file names to list"
      ],
      "metadata": {
        "id": "N9m-KTwVb0kS"
      },
      "execution_count": 11,
      "outputs": []
    },
    {
      "cell_type": "code",
      "source": [
        "# Call function to get all file names in folder\n",
        "\n",
        "get_file_names()"
      ],
      "metadata": {
        "id": "ktjd7L9CRAyS"
      },
      "execution_count": 12,
      "outputs": []
    },
    {
      "cell_type": "code",
      "source": [
        "# Check data type\n",
        "print(\"file_name_list is a \" + str(type(file_name_list)))\n",
        "\n",
        "# Number of files in zip folder\n",
        "print(\"There are \" + str(len(file_name_list)) + \" files in the zip folder\")"
      ],
      "metadata": {
        "colab": {
          "base_uri": "https://localhost:8080/"
        },
        "id": "92QcqiKFPIgG",
        "outputId": "6397b297-fe16-4398-be95-1322c41223bc"
      },
      "execution_count": null,
      "outputs": [
        {
          "output_type": "stream",
          "name": "stdout",
          "text": [
            "file_name_list is a <class 'list'>\n",
            "There are 266912 files in the zip folder\n"
          ]
        }
      ]
    },
    {
      "cell_type": "markdown",
      "source": [
        "### Randomly select files\n",
        "\n",
        "\n"
      ],
      "metadata": {
        "id": "kaKMKs1XaYO3"
      }
    },
    {
      "cell_type": "code",
      "source": [
        "# Create function to randomly select file names from file_name_list\n",
        "\n",
        "random_file_list = [] # list to append random files names to\n",
        "\n",
        "def get_random_files(x= 1000): # takes Number to randomly sample as input, 1000 is default\n",
        "  for file in random.sample(file_name_list,x): # sample() fnc from \"random\" package\n",
        "    random_file_list.append(file) # append randomly sampled file name to list"
      ],
      "metadata": {
        "id": "dgGv8algdH9k"
      },
      "execution_count": 13,
      "outputs": []
    },
    {
      "cell_type": "code",
      "source": [
        "# Call function to randomly select files\n",
        "\n",
        "get_random_files()"
      ],
      "metadata": {
        "id": "N5I1CQmLXPj_"
      },
      "execution_count": 14,
      "outputs": []
    },
    {
      "cell_type": "code",
      "source": [
        "# Number of files in random file list\n",
        "\n",
        "print(\"There are \" + str(len(random_file_list)) + \" randomly chosen files\")"
      ],
      "metadata": {
        "colab": {
          "base_uri": "https://localhost:8080/"
        },
        "id": "N3VQPtj9XSZI",
        "outputId": "f6f817b5-0afb-49db-d418-886922a7af45"
      },
      "execution_count": 15,
      "outputs": [
        {
          "output_type": "stream",
          "name": "stdout",
          "text": [
            "There are 1000 randomly chosen files\n"
          ]
        }
      ]
    },
    {
      "cell_type": "markdown",
      "source": [
        "## 3. Create WeSearch Collection\n",
        "\n",
        "Now I will use Python - requests and the lawbert model to create a WeSearch collection."
      ],
      "metadata": {
        "id": "u1ry2ekgeWSc"
      }
    },
    {
      "cell_type": "code",
      "source": [
        "# Create Function tp Create a WeSearch Collection\n",
        "\n",
        "def create_collection():\n",
        "  headers = {\n",
        "    'Authorization': 'Bearer ' + auth_token, # authorization token needed\n",
        "    'Content-Type': 'application/json',\n",
        "  }\n",
        "  data = '{ \"model\": \"lawbert\" }' # lawbert is the default model\n",
        "# data = '{\"email\":\"\",\"password\":\"[HIDDEN]\"}'\n",
        "  response = requests.post('https://project-apollo-api.stg.gc.casetext.com/v0/kayla-collects/create', headers=headers)"
      ],
      "metadata": {
        "id": "t5IAA_G4flAB"
      },
      "execution_count": null,
      "outputs": []
    },
    {
      "cell_type": "code",
      "source": [
        "# Call Function to Create a WeSearch Collection\n",
        "create_collection()"
      ],
      "metadata": {
        "id": "F6uJCh1VoD7z"
      },
      "execution_count": null,
      "outputs": []
    },
    {
      "cell_type": "code",
      "source": [
        "# Checking data\n",
        "with zipfile.ZipFile(zip_file, 'r') as zip: \n",
        "  with zip.open('446c8aa0-6eba-11e5-bc7f-4851b79b387c/-us-judgment-us-2013-02-19-12-8091-main') as myfile:\n",
        "        print(myfile.read())"
      ],
      "metadata": {
        "colab": {
          "base_uri": "https://localhost:8080/"
        },
        "id": "1ZHH2K384PlS",
        "outputId": "0035c8ea-d2aa-4600-8f20-ade6b6dbb380"
      },
      "execution_count": null,
      "outputs": [
        {
          "output_type": "stream",
          "name": "stdout",
          "text": [
            "b'\\n      \\n    U.S.\\n    U.S. Supreme Court\\n  \\n12-8091\\n\\n\\n02-19-2013\\n\\nIN RE WILLIAM STAPLES\\n\\n      \\n        \\n        HABEAS CORPUS DENIED\\n        The petition for a writ of habeas corpus is denied. Justice Kagan took no part in the consideration or decision of this petition.\\n\\n      \\n    '\n"
          ]
        }
      ]
    },
    {
      "cell_type": "markdown",
      "source": [
        "## 4. Upload Random Sample to Collection\n",
        "\n",
        "Now that the collection has been created we can upload thee 1000 documents. Then, we can try some searches on the collection."
      ],
      "metadata": {
        "id": "NaRmC5vKah86"
      }
    },
    {
      "cell_type": "code",
      "source": [
        "# Create function to retrieve text from files of interest\n",
        "files = []\n",
        "def get_text():\n",
        "  with zipfile.ZipFile(zip_file, 'r') as zip: \n",
        "    for file in random_file_list:\n",
        "      with zip.open(file) as myfile:\n",
        "        files.append(myfile.read())"
      ],
      "metadata": {
        "id": "Z3yIYVb2MmVz"
      },
      "execution_count": 63,
      "outputs": []
    },
    {
      "cell_type": "code",
      "source": [
        "# Call function to retrieve text\n",
        "get_text()"
      ],
      "metadata": {
        "id": "ivFWHD12I1na"
      },
      "execution_count": null,
      "outputs": []
    },
    {
      "cell_type": "code",
      "source": [
        "# Upload files to Collection\n",
        "def upload_files():\n",
        "  headers = {\n",
        "    'Authorization': 'Bearer ' + auth_token,\n",
        "    'Content-Type': 'text/plain',\n",
        "    }\n",
        "  for data in files:\n",
        "    response = requests.post(collection, headers=headers, data= data)"
      ],
      "metadata": {
        "id": "RehmosTAFGCM"
      },
      "execution_count": 64,
      "outputs": []
    },
    {
      "cell_type": "code",
      "source": [
        "# Call function to upload files\n",
        "upload_files()"
      ],
      "metadata": {
        "id": "GpOTucypGxcF"
      },
      "execution_count": null,
      "outputs": []
    },
    {
      "cell_type": "code",
      "source": [
        "response"
      ],
      "metadata": {
        "colab": {
          "base_uri": "https://localhost:8080/"
        },
        "id": "zEn5ZLfoKs7b",
        "outputId": "b0120c3d-2eff-4db0-c648-3ecfd55cb4de"
      },
      "execution_count": 65,
      "outputs": [
        {
          "output_type": "execute_result",
          "data": {
            "text/plain": [
              "<Response [201]>"
            ]
          },
          "metadata": {},
          "execution_count": 65
        }
      ]
    },
    {
      "cell_type": "code",
      "source": [
        "# Check data type\n",
        "type(response.json())"
      ],
      "metadata": {
        "colab": {
          "base_uri": "https://localhost:8080/"
        },
        "id": "BNQEfHFYPgi9",
        "outputId": "7005011a-4bb7-4b97-c792-b16c67817dfb"
      },
      "execution_count": 80,
      "outputs": [
        {
          "output_type": "execute_result",
          "data": {
            "text/plain": [
              "dict"
            ]
          },
          "metadata": {},
          "execution_count": 80
        }
      ]
    },
    {
      "cell_type": "code",
      "source": [
        "# Verify succesful ingestion of 1000 files into collection (len)\n",
        "print(\"There are \" + str(len(response.json()['documents'])) + \" documents in the Collection\")"
      ],
      "metadata": {
        "colab": {
          "base_uri": "https://localhost:8080/"
        },
        "id": "gCKKMBT4P-iJ",
        "outputId": "b926ac3b-2014-4ec5-a491-64fc21ef7783"
      },
      "execution_count": 90,
      "outputs": [
        {
          "output_type": "stream",
          "name": "stdout",
          "text": [
            "There are 1000 documents in the Collection\n"
          ]
        }
      ]
    }
  ]
}